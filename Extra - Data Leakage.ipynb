{
 "cells": [
  {
   "cell_type": "markdown",
   "metadata": {},
   "source": [
    "# Data Leakage"
   ]
  },
  {
   "cell_type": "markdown",
   "metadata": {},
   "source": [
    "data leakage(데이터 누수)가 무엇인지 어떻게 방지할 수 있는지 알아볼 것이다. 만약 이를 어떻게 방지할 것인가를 모른다면, data leakage는 자주 발생할 것이고, 이는 모델을 망칠 수도 있다. 따라서 data leakage라는 개념은 초보 데이터분석가에는 매우 중요한 개념이다."
   ]
  },
  {
   "cell_type": "markdown",
   "metadata": {},
   "source": [
    "## 서론"
   ]
  },
  {
   "cell_type": "markdown",
   "metadata": {},
   "source": [
    "data leakage는 train data에 target에 대한 정보가 포함되어 있지만 그 정보를 실제 예측에서는 사용할 수 없는 경우 발생한다. train set와 valid set에서 좋은 성능을 보이지만, 실제 모델이 수행 될 때는 제대로 작동하지 않을 것이다.\n",
    "\n",
    "다시 말해서, data leakage가 발생한다면 모델을 실제 사용하여 의사결정을 내리기 전까지 문제점을 찾지 못할 수도 있다.(train, valid 세트에선 성능이 좋으므로) 뒤늦게 모델이 매우 부정확하다는 것을 깨닫게 된다.\n",
    "\n",
    "data leakage에는 2가지 유형이 있다.\n",
    "- target leakage(타겟 누수)\n",
    "- train-test contamination (훈련 테스트 오염) "
   ]
  },
  {
   "cell_type": "markdown",
   "metadata": {},
   "source": [
    "### Target Leakage\n",
    "target leakage는 예측 시점에서 사용할 수 없는 데이터가 포함되어 있을 때 발생한다. 예를 통해 이해해보자."
   ]
  },
  {
   "cell_type": "code",
   "execution_count": 1,
   "metadata": {},
   "outputs": [
    {
     "data": {
      "text/html": [
       "<div>\n",
       "<style scoped>\n",
       "    .dataframe tbody tr th:only-of-type {\n",
       "        vertical-align: middle;\n",
       "    }\n",
       "\n",
       "    .dataframe tbody tr th {\n",
       "        vertical-align: top;\n",
       "    }\n",
       "\n",
       "    .dataframe thead th {\n",
       "        text-align: right;\n",
       "    }\n",
       "</style>\n",
       "<table border=\"1\" class=\"dataframe\">\n",
       "  <thead>\n",
       "    <tr style=\"text-align: right;\">\n",
       "      <th></th>\n",
       "      <th>got_pneumonia</th>\n",
       "      <th>age</th>\n",
       "      <th>weight</th>\n",
       "      <th>male</th>\n",
       "      <th>took_antibiotic_medicine</th>\n",
       "    </tr>\n",
       "  </thead>\n",
       "  <tbody>\n",
       "    <tr>\n",
       "      <th>0</th>\n",
       "      <td>False</td>\n",
       "      <td>65</td>\n",
       "      <td>100</td>\n",
       "      <td>False</td>\n",
       "      <td>False</td>\n",
       "    </tr>\n",
       "    <tr>\n",
       "      <th>1</th>\n",
       "      <td>False</td>\n",
       "      <td>72</td>\n",
       "      <td>130</td>\n",
       "      <td>True</td>\n",
       "      <td>False</td>\n",
       "    </tr>\n",
       "    <tr>\n",
       "      <th>2</th>\n",
       "      <td>True</td>\n",
       "      <td>58</td>\n",
       "      <td>100</td>\n",
       "      <td>False</td>\n",
       "      <td>True</td>\n",
       "    </tr>\n",
       "  </tbody>\n",
       "</table>\n",
       "</div>"
      ],
      "text/plain": [
       "   got_pneumonia  age  weight   male  took_antibiotic_medicine\n",
       "0          False   65     100  False                     False\n",
       "1          False   72     130   True                     False\n",
       "2           True   58     100  False                      True"
      ]
     },
     "execution_count": 1,
     "metadata": {},
     "output_type": "execute_result"
    }
   ],
   "source": [
    "import pandas as pd\n",
    "\n",
    "dict = {'got_pneumonia' : [False, False, True], 'age' : [65,72,58], 'weight' : [100,130,100], 'male' : [False, True, False], 'took_antibiotic_medicine' : [False, False, True]}\n",
    "\n",
    "pd.DataFrame(dict)"
   ]
  },
  {
   "cell_type": "markdown",
   "metadata": {},
   "source": [
    "위 데이터를 이용해 누가 폐렴(pneumonia)에 걸렸나를 예측하고자 한다. \n",
    "\n",
    "사람들은 폐렴에 걸린 후에 항생제(antibiotic)를 복용한다. \n",
    "\n",
    "이때 폐렴 여부와 항생제의 복용 여부 사이엔 강한 관계가 존재한다는 것을 알 수 있다. \n",
    "\n",
    "위 데이터를 활용하여 모델을 만들게 된다면, 모델은 ''took_antibiotic_medicine'이 False인 사람은 폐렴에 걸리지 않는다고 예측할 것이다.\n",
    "\n",
    "폐렴에 걸렸는지를 예측할 것인데 폐렴에 걸린 후의 항생제 복용 여부를 사용한다는 것은 부적절해보인다. \n",
    "\n",
    "이런 것이 target leakage다. \n",
    "\n",
    "이를 방지하려면 target이 결정된 후의 생성되는 변수들을 데이터세트에서 제외해야한다."
   ]
  },
  {
   "cell_type": "markdown",
   "metadata": {},
   "source": [
    "### Train-Test Contamination\n",
    "train-test contamination는 훈련 데이터와 검증데이터를 제대로 구별하지 않았을 때, 발생한다.\n",
    "\n",
    "검증 데이터는 모델이 고려하지 않았던 데이터에 대해 얼마나 좋은 성능 보이는가를 측정하는 것이다.\n",
    "\n",
    "하지만 검증 데이터가 전처리에 영향을 준다면? 위 과정이 변질 될 수 있다.\n",
    "\n",
    "예를 들어 train_test_split 함수를 쓰기 전에, 전처리(결측치 대체 등)를 한다고 가정하자. \n",
    "\n",
    "결과적으로 검증 데이터의 점수는 좋을 것이고, 우리들은 의심없이 이 결과를 신뢰할 것이다. \n",
    "\n",
    "하지만 모델이 실제로 사용될 때는 성능이 저하된다. 복잡한 feature engineering을 한다면 이 문제는 더욱 심각해질 것이다.\n",
    "\n",
    "만약 검증 데이터가 train-test split을 기반으로 만들어졌을 때, 검증 데이터를 모든 fitting에서 제외하고, 전처리 단계의 fitting에 포함시켜야 한다.\n",
    "\n",
    "사이킷런의 파이프라인을 이용하면 더욱 쉽다. Cross-validation을 사용할 때는 파이프 라인 내에서 전처리를 수행하는 것이 훨씬 더 중요하다."
   ]
  },
  {
   "cell_type": "markdown",
   "metadata": {},
   "source": [
    "### 예제\n",
    "예제에선 target leakage를 발견하고, 제거하는 것을 살펴볼 것이며, 신용카드 어플리케이션 데이터세트를 사용한다. feature들을 통해 신용카드 신청이 승인(1)인지 거절되었는지(0)를 예측해볼 것이다."
   ]
  },
  {
   "cell_type": "code",
   "execution_count": 2,
   "metadata": {},
   "outputs": [
    {
     "name": "stdout",
     "output_type": "stream",
     "text": [
      "행의 개수:  1319\n"
     ]
    },
    {
     "data": {
      "text/html": [
       "<div>\n",
       "<style scoped>\n",
       "    .dataframe tbody tr th:only-of-type {\n",
       "        vertical-align: middle;\n",
       "    }\n",
       "\n",
       "    .dataframe tbody tr th {\n",
       "        vertical-align: top;\n",
       "    }\n",
       "\n",
       "    .dataframe thead th {\n",
       "        text-align: right;\n",
       "    }\n",
       "</style>\n",
       "<table border=\"1\" class=\"dataframe\">\n",
       "  <thead>\n",
       "    <tr style=\"text-align: right;\">\n",
       "      <th></th>\n",
       "      <th>reports</th>\n",
       "      <th>age</th>\n",
       "      <th>income</th>\n",
       "      <th>share</th>\n",
       "      <th>expenditure</th>\n",
       "      <th>owner</th>\n",
       "      <th>selfemp</th>\n",
       "      <th>dependents</th>\n",
       "      <th>months</th>\n",
       "      <th>majorcards</th>\n",
       "      <th>active</th>\n",
       "    </tr>\n",
       "  </thead>\n",
       "  <tbody>\n",
       "    <tr>\n",
       "      <th>0</th>\n",
       "      <td>0</td>\n",
       "      <td>37.66667</td>\n",
       "      <td>4.5200</td>\n",
       "      <td>0.033270</td>\n",
       "      <td>124.983300</td>\n",
       "      <td>True</td>\n",
       "      <td>False</td>\n",
       "      <td>3</td>\n",
       "      <td>54</td>\n",
       "      <td>1</td>\n",
       "      <td>12</td>\n",
       "    </tr>\n",
       "    <tr>\n",
       "      <th>1</th>\n",
       "      <td>0</td>\n",
       "      <td>33.25000</td>\n",
       "      <td>2.4200</td>\n",
       "      <td>0.005217</td>\n",
       "      <td>9.854167</td>\n",
       "      <td>False</td>\n",
       "      <td>False</td>\n",
       "      <td>3</td>\n",
       "      <td>34</td>\n",
       "      <td>1</td>\n",
       "      <td>13</td>\n",
       "    </tr>\n",
       "    <tr>\n",
       "      <th>2</th>\n",
       "      <td>0</td>\n",
       "      <td>33.66667</td>\n",
       "      <td>4.5000</td>\n",
       "      <td>0.004156</td>\n",
       "      <td>15.000000</td>\n",
       "      <td>True</td>\n",
       "      <td>False</td>\n",
       "      <td>4</td>\n",
       "      <td>58</td>\n",
       "      <td>1</td>\n",
       "      <td>5</td>\n",
       "    </tr>\n",
       "    <tr>\n",
       "      <th>3</th>\n",
       "      <td>0</td>\n",
       "      <td>30.50000</td>\n",
       "      <td>2.5400</td>\n",
       "      <td>0.065214</td>\n",
       "      <td>137.869200</td>\n",
       "      <td>False</td>\n",
       "      <td>False</td>\n",
       "      <td>0</td>\n",
       "      <td>25</td>\n",
       "      <td>1</td>\n",
       "      <td>7</td>\n",
       "    </tr>\n",
       "    <tr>\n",
       "      <th>4</th>\n",
       "      <td>0</td>\n",
       "      <td>32.16667</td>\n",
       "      <td>9.7867</td>\n",
       "      <td>0.067051</td>\n",
       "      <td>546.503300</td>\n",
       "      <td>True</td>\n",
       "      <td>False</td>\n",
       "      <td>2</td>\n",
       "      <td>64</td>\n",
       "      <td>1</td>\n",
       "      <td>5</td>\n",
       "    </tr>\n",
       "  </tbody>\n",
       "</table>\n",
       "</div>"
      ],
      "text/plain": [
       "   reports       age  income     share  expenditure  owner  selfemp  \\\n",
       "0        0  37.66667  4.5200  0.033270   124.983300   True    False   \n",
       "1        0  33.25000  2.4200  0.005217     9.854167  False    False   \n",
       "2        0  33.66667  4.5000  0.004156    15.000000   True    False   \n",
       "3        0  30.50000  2.5400  0.065214   137.869200  False    False   \n",
       "4        0  32.16667  9.7867  0.067051   546.503300   True    False   \n",
       "\n",
       "   dependents  months  majorcards  active  \n",
       "0           3      54           1      12  \n",
       "1           3      34           1      13  \n",
       "2           4      58           1       5  \n",
       "3           0      25           1       7  \n",
       "4           2      64           1       5  "
      ]
     },
     "execution_count": 2,
     "metadata": {},
     "output_type": "execute_result"
    }
   ],
   "source": [
    "# 데이터 불러오기\n",
    "data = pd.read_csv('data/AER_credit_card_data.csv', true_values = ['yes'], false_values = ['no'])\n",
    "\n",
    "X = data.drop('card', axis = 1)\n",
    "y = data['card']\n",
    "\n",
    "print('행의 개수: ',X.shape[0])\n",
    "X.head()"
   ]
  },
  {
   "cell_type": "code",
   "execution_count": 3,
   "metadata": {},
   "outputs": [
    {
     "name": "stdout",
     "output_type": "stream",
     "text": [
      "CV accuary: 0.978776\n"
     ]
    }
   ],
   "source": [
    "from sklearn.pipeline import make_pipeline\n",
    "from sklearn.ensemble import RandomForestClassifier\n",
    "from sklearn.model_selection import cross_val_score\n",
    "\n",
    "# 전처리를 안 하기 때문에 pipeline을 사용 안 해도 괜찮다.\n",
    "pipeline = make_pipeline(RandomForestClassifier(n_estimators=100))\n",
    "cv_scores = cross_val_score(pipeline, X, y, cv = 5, scoring = 'accuracy')\n",
    "print('CV accuary: %f' % cv_scores.mean())"
   ]
  },
  {
   "cell_type": "markdown",
   "metadata": {},
   "source": [
    "0.98이라는 보기 힘든 수치가 나왔다. 98%라는 정확도는 의심해볼만하다. target leakage가 있는지 살펴보도록 하자!"
   ]
  },
  {
   "cell_type": "markdown",
   "metadata": {},
   "source": [
    "- card: 1 if credit card application accepted, 0 if not\n",
    "- reports: Number of major derogatory reports\n",
    "- age: Age n years plus twelfths of a year\n",
    "- income: Yearly income (divided by 10,000)\n",
    "- share: Ratio of monthly credit card expenditure to yearly income\n",
    "- <b> expenditure: Average monthly credit card expenditure </b>\n",
    "- owner: 1 if owns home, 0 if rents\n",
    "- selfempl: 1 if self-employed, 0 if not\n",
    "- dependents: 1 + number of dependents\n",
    "- months: Months living at current address\n",
    "- majorcards: Number of major credit cards held\n",
    "- active: Number of active credit accounts"
   ]
  },
  {
   "cell_type": "markdown",
   "metadata": {},
   "source": [
    "몇 개의 변수가 의심스럽다. 예를 들어 expenditure는 발급 신청한 카드의 월별 지출에 대한 평균을 말하는 것인지, 아니면 발급 신청 전의 고객이 사용했던 카드의 월별 지출을 말하는 것인지 헷갈린다."
   ]
  },
  {
   "cell_type": "code",
   "execution_count": 4,
   "metadata": {},
   "outputs": [
    {
     "name": "stdout",
     "output_type": "stream",
     "text": [
      "Fraction of those who did not receive a card and had no expenditures: 1.00\n",
      "Fraction of those who received a card and had no expenditures: 0.02\n"
     ]
    }
   ],
   "source": [
    "# 비교해보자\n",
    "expenditures_cardholders = X['expenditure'][y]\n",
    "expenditures_noncardholders = X['expenditure'][~y]\n",
    "\n",
    "print('Fraction of those who did not receive a card and had no expenditures: %.2f' \\\n",
    "      %((expenditures_noncardholders == 0).mean()))\n",
    "print('Fraction of those who received a card and had no expenditures: %.2f' \\\n",
    "      %(( expenditures_cardholders == 0).mean()))"
   ]
  },
  {
   "cell_type": "markdown",
   "metadata": {},
   "source": [
    "이를 보면 카드를 받지 못한 사람은 모두 지출이 없었고, 카드를 받은 사람의 2% 만이 지출이 없었다. 이를 통해 target leakage가 발생했다는 것을 알 수 있었다. "
   ]
  },
  {
   "cell_type": "code",
   "execution_count": 5,
   "metadata": {},
   "outputs": [
    {
     "name": "stdout",
     "output_type": "stream",
     "text": [
      "CV accuary: 0.832437\n"
     ]
    }
   ],
   "source": [
    "# target leakage의 가능성이 있는 변수들도 함께 제거\n",
    "potential_leaks = ['expenditure', 'share', 'active', 'majorcards']\n",
    "X2 = X.drop(potential_leaks, axis = 1)\n",
    "\n",
    "cv_scores = cross_val_score(pipeline, X2, y, cv = 5, scoring = 'accuracy')\n",
    "print('CV accuary: %f' % cv_scores.mean())"
   ]
  },
  {
   "cell_type": "markdown",
   "metadata": {},
   "source": [
    "정확도는 많이 낮아졌다. 하지만 target leakage가 있던 실제 모델을 사용할 시에 이 모델보다 성능이 더 안 좋을 수 있다."
   ]
  },
  {
   "cell_type": "markdown",
   "metadata": {},
   "source": [
    "## Reference :\n",
    "[Intermediate Machine Learning(Kaggle)](https://www.kaggle.com/alexisbcook/data-leakage)"
   ]
  }
 ],
 "metadata": {
  "kernelspec": {
   "display_name": "Python 3",
   "language": "python",
   "name": "python3"
  },
  "language_info": {
   "codemirror_mode": {
    "name": "ipython",
    "version": 3
   },
   "file_extension": ".py",
   "mimetype": "text/x-python",
   "name": "python",
   "nbconvert_exporter": "python",
   "pygments_lexer": "ipython3",
   "version": "3.7.9"
  }
 },
 "nbformat": 4,
 "nbformat_minor": 4
}
